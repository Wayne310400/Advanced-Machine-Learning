{
 "cells": [
  {
   "cell_type": "markdown",
   "metadata": {},
   "source": [
    "# Question 2"
   ]
  },
  {
   "cell_type": "code",
   "execution_count": 1,
   "metadata": {
    "ExecuteTime": {
     "end_time": "2022-03-24T02:03:50.633577Z",
     "start_time": "2022-03-24T02:03:45.310407Z"
    }
   },
   "outputs": [],
   "source": [
    "# import packages\n",
    "import matplotlib.pyplot as plt\n",
    "import tensorflow as tf\n",
    "import pandas as pd\n",
    "import numpy as np\n",
    "\n",
    "from tensorflow.keras import layers\n",
    "from sklearn.model_selection import train_test_split"
   ]
  },
  {
   "cell_type": "code",
   "execution_count": 2,
   "metadata": {
    "ExecuteTime": {
     "end_time": "2022-03-24T02:03:50.654382Z",
     "start_time": "2022-03-24T02:03:50.636369Z"
    }
   },
   "outputs": [
    {
     "name": "stdout",
     "output_type": "stream",
     "text": [
      "data_len:  50\n"
     ]
    },
    {
     "data": {
      "text/html": [
       "<div>\n",
       "<style scoped>\n",
       "    .dataframe tbody tr th:only-of-type {\n",
       "        vertical-align: middle;\n",
       "    }\n",
       "\n",
       "    .dataframe tbody tr th {\n",
       "        vertical-align: top;\n",
       "    }\n",
       "\n",
       "    .dataframe thead th {\n",
       "        text-align: right;\n",
       "    }\n",
       "</style>\n",
       "<table border=\"1\" class=\"dataframe\">\n",
       "  <thead>\n",
       "    <tr style=\"text-align: right;\">\n",
       "      <th></th>\n",
       "      <th>U1</th>\n",
       "      <th>U2</th>\n",
       "    </tr>\n",
       "  </thead>\n",
       "  <tbody>\n",
       "    <tr>\n",
       "      <th>0</th>\n",
       "      <td>0.814291</td>\n",
       "      <td>-0.282982</td>\n",
       "    </tr>\n",
       "    <tr>\n",
       "      <th>1</th>\n",
       "      <td>-0.557005</td>\n",
       "      <td>-0.221874</td>\n",
       "    </tr>\n",
       "    <tr>\n",
       "      <th>2</th>\n",
       "      <td>0.041433</td>\n",
       "      <td>-0.271074</td>\n",
       "    </tr>\n",
       "    <tr>\n",
       "      <th>3</th>\n",
       "      <td>0.999120</td>\n",
       "      <td>-0.001757</td>\n",
       "    </tr>\n",
       "    <tr>\n",
       "      <th>4</th>\n",
       "      <td>-0.836723</td>\n",
       "      <td>-0.592460</td>\n",
       "    </tr>\n",
       "  </tbody>\n",
       "</table>\n",
       "</div>"
      ],
      "text/plain": [
       "         U1        U2\n",
       "0  0.814291 -0.282982\n",
       "1 -0.557005 -0.221874\n",
       "2  0.041433 -0.271074\n",
       "3  0.999120 -0.001757\n",
       "4 -0.836723 -0.592460"
      ]
     },
     "execution_count": 2,
     "metadata": {},
     "output_type": "execute_result"
    }
   ],
   "source": [
    "# 讀取資料集，和預覽資料\n",
    "train_data = pd.read_csv(\"HW2-1.csv\")\n",
    "print(\"data_len: \", len(train_data))\n",
    "raw_data = train_data.values\n",
    "train_data.head()"
   ]
  },
  {
   "cell_type": "code",
   "execution_count": 3,
   "metadata": {
    "ExecuteTime": {
     "end_time": "2022-03-24T02:03:50.685809Z",
     "start_time": "2022-03-24T02:03:50.659400Z"
    }
   },
   "outputs": [],
   "source": [
    "# 客製化我們的模型\n",
    "class OurAnomalyDetector(tf.keras.Model):\n",
    "  def __init__(self):\n",
    "    super(OurAnomalyDetector, self).__init__()\n",
    "    self.encoder = tf.keras.Sequential([\n",
    "      layers.Dense(32, activation = \"tanh\"),\n",
    "      layers.Dense(16, activation = \"tanh\"),\n",
    "      layers.Dense(8, activation = \"tanh\")])\n",
    "\n",
    "    self.decoder = tf.keras.Sequential([\n",
    "      layers.Dense(32, activation = \"tanh\"),\n",
    "      layers.Dense(16, activation = \"tanh\"),\n",
    "      layers.Dense(2, activation = 'tanh')])\n",
    "\n",
    "  def call(self, x):\n",
    "    encoded = self.encoder(x)\n",
    "    decoded = self.decoder(encoded)\n",
    "    return decoded\n",
    "\n",
    "autoencoder = OurAnomalyDetector()"
   ]
  },
  {
   "cell_type": "code",
   "execution_count": 4,
   "metadata": {
    "ExecuteTime": {
     "end_time": "2022-03-24T02:03:51.348896Z",
     "start_time": "2022-03-24T02:03:50.687433Z"
    }
   },
   "outputs": [
    {
     "name": "stdout",
     "output_type": "stream",
     "text": [
      "Epoch 1/20\n",
      "2/2 [==============================] - 0s 2ms/step - loss: 0.4499\n",
      "Epoch 2/20\n",
      "2/2 [==============================] - 0s 2ms/step - loss: 0.3857\n",
      "Epoch 3/20\n",
      "2/2 [==============================] - 0s 2ms/step - loss: 0.3526\n",
      "Epoch 4/20\n",
      "2/2 [==============================] - 0s 2ms/step - loss: 0.3018\n",
      "Epoch 5/20\n",
      "2/2 [==============================] - 0s 2ms/step - loss: 0.2619\n",
      "Epoch 6/20\n",
      "2/2 [==============================] - 0s 2ms/step - loss: 0.2337\n",
      "Epoch 7/20\n",
      "2/2 [==============================] - 0s 2ms/step - loss: 0.2092\n",
      "Epoch 8/20\n",
      "2/2 [==============================] - 0s 2ms/step - loss: 0.1842\n",
      "Epoch 9/20\n",
      "2/2 [==============================] - 0s 2ms/step - loss: 0.1636\n",
      "Epoch 10/20\n",
      "2/2 [==============================] - 0s 2ms/step - loss: 0.1355\n",
      "Epoch 11/20\n",
      "2/2 [==============================] - 0s 2ms/step - loss: 0.1111\n",
      "Epoch 12/20\n",
      "2/2 [==============================] - 0s 2ms/step - loss: 0.1004\n",
      "Epoch 13/20\n",
      "2/2 [==============================] - 0s 2ms/step - loss: 0.0960\n",
      "Epoch 14/20\n",
      "2/2 [==============================] - 0s 3ms/step - loss: 0.0924\n",
      "Epoch 15/20\n",
      "2/2 [==============================] - 0s 2ms/step - loss: 0.0951\n",
      "Epoch 16/20\n",
      "2/2 [==============================] - 0s 2ms/step - loss: 0.0908\n",
      "Epoch 17/20\n",
      "2/2 [==============================] - 0s 3ms/step - loss: 0.0931\n",
      "Epoch 18/20\n",
      "2/2 [==============================] - 0s 3ms/step - loss: 0.0843\n",
      "Epoch 19/20\n",
      "2/2 [==============================] - 0s 2ms/step - loss: 0.0837\n",
      "Epoch 20/20\n",
      "2/2 [==============================] - 0s 2ms/step - loss: 0.0759\n"
     ]
    }
   ],
   "source": [
    "# 訓練模型\n",
    "autoencoder.compile(optimizer = 'adam', loss = 'mae')\n",
    "history = autoencoder.fit(raw_data, raw_data, epochs = 20)"
   ]
  },
  {
   "cell_type": "code",
   "execution_count": 5,
   "metadata": {
    "ExecuteTime": {
     "end_time": "2022-03-24T02:03:51.369293Z",
     "start_time": "2022-03-24T02:03:51.351368Z"
    }
   },
   "outputs": [
    {
     "data": {
      "text/plain": [
       "array([[ 0.7275164 , -0.27410752],\n",
       "       [-0.6405492 , -0.22224966],\n",
       "       [ 0.03306295, -0.30581805],\n",
       "       [ 0.80797666, -0.13215576],\n",
       "       [-0.7850316 , -0.36816424],\n",
       "       [-0.27159575, -0.22879426],\n",
       "       [ 0.5399936 , -0.37352937],\n",
       "       [-0.4401112 , -0.20053865],\n",
       "       [ 0.43659723, -0.37906978],\n",
       "       [-0.79240286, -0.38460827],\n",
       "       [-0.49123353, -0.19770288],\n",
       "       [ 0.07438851, -0.31627846],\n",
       "       [-0.7464848 , -0.3045561 ],\n",
       "       [ 0.06509383, -0.31394994],\n",
       "       [ 0.4051368 , -0.37743333],\n",
       "       [ 0.44051135, -0.3791845 ],\n",
       "       [ 0.48590603, -0.3788458 ],\n",
       "       [ 0.69105774, -0.3092692 ],\n",
       "       [ 0.6424003 , -0.34109393],\n",
       "       [-0.7674058 , -0.3352422 ],\n",
       "       [-0.15191926, -0.25770482],\n",
       "       [-0.19432127, -0.24702911],\n",
       "       [ 0.39803687, -0.37690133],\n",
       "       [ 0.6075675 , -0.35635012],\n",
       "       [ 0.06366602, -0.31359085],\n",
       "       [ 0.17301482, -0.3397619 ],\n",
       "       [-0.81574404, -0.45497328],\n",
       "       [ 0.39995474, -0.37705058],\n",
       "       [-0.57816565, -0.20409697],\n",
       "       [-0.8124403 , -0.44243467],\n",
       "       [ 0.796869  , -0.16006175],\n",
       "       [ 0.32120076, -0.36801356],\n",
       "       [-0.26695064, -0.22983006],\n",
       "       [-0.27572268, -0.22788176],\n",
       "       [-0.6767996 , -0.24089235],\n",
       "       [ 0.16295972, -0.3374929 ],\n",
       "       [ 0.45266533, -0.37940425],\n",
       "       [-0.6616809 , -0.23222066],\n",
       "       [-0.81464016, -0.45063785],\n",
       "       [-0.7832248 , -0.36440754],\n",
       "       [-0.5834698 , -0.20510405],\n",
       "       [-0.06326507, -0.2807488 ],\n",
       "       [-0.75597656, -0.3175463 ],\n",
       "       [ 0.7925048 , -0.1700299 ],\n",
       "       [ 0.21823981, -0.34951076],\n",
       "       [-0.31164423, -0.220284  ],\n",
       "       [-0.37347442, -0.20902699],\n",
       "       [ 0.06247924, -0.31329218],\n",
       "       [ 0.69559634, -0.3055084 ],\n",
       "       [ 0.28821012, -0.36275893]], dtype=float32)"
      ]
     },
     "execution_count": 5,
     "metadata": {},
     "output_type": "execute_result"
    }
   ],
   "source": [
    "# 產生新資料\n",
    "encoded_data = autoencoder.encoder(raw_data).numpy()\n",
    "decoded_data = autoencoder.decoder(encoded_data).numpy()\n",
    "decoded_data"
   ]
  },
  {
   "cell_type": "code",
   "execution_count": 6,
   "metadata": {
    "ExecuteTime": {
     "end_time": "2022-03-24T02:03:51.376278Z",
     "start_time": "2022-03-24T02:03:51.372493Z"
    }
   },
   "outputs": [],
   "source": [
    "# 將二維 array 轉成 2個 list(x軸, y軸)\n",
    "h = decoded_data.tolist()\n",
    "x_axis = []\n",
    "y_axis = []\n",
    "for x in h:\n",
    "    x_axis.append(x[0])\n",
    "    y_axis.append(x[1])"
   ]
  },
  {
   "cell_type": "code",
   "execution_count": 7,
   "metadata": {
    "ExecuteTime": {
     "end_time": "2022-03-24T02:03:51.603045Z",
     "start_time": "2022-03-24T02:03:51.380480Z"
    }
   },
   "outputs": [
    {
     "data": {
      "image/png": "[encoded data removed]",
      "text/plain": [
       "<Figure size 432x288 with 1 Axes>"
      ]
     },
     "metadata": {
      "needs_background": "light"
     },
     "output_type": "display_data"
    }
   ],
   "source": [
    "# 繪圖\n",
    "plt.grid()\n",
    "plt.scatter(train_data['U1'], train_data['U2'], c = \"blue\")\n",
    "plt.scatter(x_axis, y_axis, c = \"red\")\n",
    "plt.legend(labels=[\"Given data\", \"Generated data\"])\n",
    "plt.show()"
   ]
  },
  {
   "cell_type": "code",
   "execution_count": null,
   "metadata": {},
   "outputs": [],
   "source": []
  }
 ],
 "metadata": {
  "kernelspec": {
   "display_name": "Python 3",
   "language": "python",
   "name": "python3"
  },
  "language_info": {
   "codemirror_mode": {
    "name": "ipython",
    "version": 3
   },
   "file_extension": ".py",
   "mimetype": "text/x-python",
   "name": "python",
   "nbconvert_exporter": "python",
   "pygments_lexer": "ipython3",
   "version": "3.8.5"
  }
 },
 "nbformat": 4,
 "nbformat_minor": 4
}
