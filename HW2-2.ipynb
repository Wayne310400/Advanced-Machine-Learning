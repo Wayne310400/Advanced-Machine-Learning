{
 "cells": [
  {
   "cell_type": "code",
   "execution_count": 1,
   "metadata": {
    "ExecuteTime": {
     "end_time": "2022-03-23T14:49:03.327458Z",
     "start_time": "2022-03-23T14:48:58.554350Z"
    }
   },
   "outputs": [],
   "source": [
    "import matplotlib.pyplot as plt\n",
    "import tensorflow as tf\n",
    "import pandas as pd\n",
    "import numpy as np\n",
    "\n",
    "from tensorflow.keras import layers\n",
    "from sklearn.model_selection import train_test_split"
   ]
  },
  {
   "cell_type": "code",
   "execution_count": 2,
   "metadata": {
    "ExecuteTime": {
     "end_time": "2022-03-23T14:49:03.359571Z",
     "start_time": "2022-03-23T14:49:03.330725Z"
    }
   },
   "outputs": [
    {
     "name": "stdout",
     "output_type": "stream",
     "text": [
      "data_len:  50\n"
     ]
    },
    {
     "data": {
      "text/html": [
       "<div>\n",
       "<style scoped>\n",
       "    .dataframe tbody tr th:only-of-type {\n",
       "        vertical-align: middle;\n",
       "    }\n",
       "\n",
       "    .dataframe tbody tr th {\n",
       "        vertical-align: top;\n",
       "    }\n",
       "\n",
       "    .dataframe thead th {\n",
       "        text-align: right;\n",
       "    }\n",
       "</style>\n",
       "<table border=\"1\" class=\"dataframe\">\n",
       "  <thead>\n",
       "    <tr style=\"text-align: right;\">\n",
       "      <th></th>\n",
       "      <th>U1</th>\n",
       "      <th>U2</th>\n",
       "    </tr>\n",
       "  </thead>\n",
       "  <tbody>\n",
       "    <tr>\n",
       "      <th>0</th>\n",
       "      <td>0.814291</td>\n",
       "      <td>-0.282982</td>\n",
       "    </tr>\n",
       "    <tr>\n",
       "      <th>1</th>\n",
       "      <td>-0.557005</td>\n",
       "      <td>-0.221874</td>\n",
       "    </tr>\n",
       "    <tr>\n",
       "      <th>2</th>\n",
       "      <td>0.041433</td>\n",
       "      <td>-0.271074</td>\n",
       "    </tr>\n",
       "    <tr>\n",
       "      <th>3</th>\n",
       "      <td>0.999120</td>\n",
       "      <td>-0.001757</td>\n",
       "    </tr>\n",
       "    <tr>\n",
       "      <th>4</th>\n",
       "      <td>-0.836723</td>\n",
       "      <td>-0.592460</td>\n",
       "    </tr>\n",
       "  </tbody>\n",
       "</table>\n",
       "</div>"
      ],
      "text/plain": [
       "         U1        U2\n",
       "0  0.814291 -0.282982\n",
       "1 -0.557005 -0.221874\n",
       "2  0.041433 -0.271074\n",
       "3  0.999120 -0.001757\n",
       "4 -0.836723 -0.592460"
      ]
     },
     "execution_count": 2,
     "metadata": {},
     "output_type": "execute_result"
    }
   ],
   "source": [
    "train_data = pd.read_csv(\"HW2-1.csv\")\n",
    "print(\"data_len: \", len(train_data))\n",
    "raw_data = train_data.values\n",
    "train_data.head()"
   ]
  },
  {
   "cell_type": "code",
   "execution_count": 3,
   "metadata": {
    "ExecuteTime": {
     "end_time": "2022-03-23T14:49:03.371694Z",
     "start_time": "2022-03-23T14:49:03.363178Z"
    }
   },
   "outputs": [],
   "source": [
    "# The last element contains the labels\n",
    "labels = raw_data[:, -1]\n",
    "\n",
    "# The other data points are the electrocadriogram data\n",
    "data = raw_data[:, 0 : -1]"
   ]
  },
  {
   "cell_type": "code",
   "execution_count": 4,
   "metadata": {
    "ExecuteTime": {
     "end_time": "2022-03-23T14:49:03.419786Z",
     "start_time": "2022-03-23T14:49:03.376236Z"
    }
   },
   "outputs": [],
   "source": [
    "class OurAnomalyDetector(tf.keras.Model):\n",
    "  def __init__(self):\n",
    "    super(OurAnomalyDetector, self).__init__()\n",
    "    self.encoder = tf.keras.Sequential([\n",
    "      layers.Dense(32, activation = \"tanh\"),\n",
    "      layers.Dense(16, activation = \"tanh\"),\n",
    "      layers.Dense(8, activation = \"tanh\")])\n",
    "\n",
    "    self.decoder = tf.keras.Sequential([\n",
    "      layers.Dense(32, activation = \"tanh\"),\n",
    "      layers.Dense(16, activation = \"tanh\"),\n",
    "      layers.Dense(2, activation = 'tanh')])\n",
    "\n",
    "  def call(self, x):\n",
    "    encoded = self.encoder(x)\n",
    "    decoded = self.decoder(encoded)\n",
    "    return decoded\n",
    "\n",
    "autoencoder = OurAnomalyDetector()"
   ]
  },
  {
   "cell_type": "code",
   "execution_count": 5,
   "metadata": {
    "ExecuteTime": {
     "end_time": "2022-03-23T14:49:04.389697Z",
     "start_time": "2022-03-23T14:49:03.423050Z"
    }
   },
   "outputs": [
    {
     "name": "stdout",
     "output_type": "stream",
     "text": [
      "Epoch 1/20\n",
      "2/2 [==============================] - 1s 3ms/step - loss: 0.4687\n",
      "Epoch 2/20\n",
      "2/2 [==============================] - 0s 4ms/step - loss: 0.4102\n",
      "Epoch 3/20\n",
      "2/2 [==============================] - 0s 6ms/step - loss: 0.3354\n",
      "Epoch 4/20\n",
      "2/2 [==============================] - 0s 7ms/step - loss: 0.2962\n",
      "Epoch 5/20\n",
      "2/2 [==============================] - 0s 5ms/step - loss: 0.2423\n",
      "Epoch 6/20\n",
      "2/2 [==============================] - 0s 4ms/step - loss: 0.2055\n",
      "Epoch 7/20\n",
      "2/2 [==============================] - 0s 6ms/step - loss: 0.1760\n",
      "Epoch 8/20\n",
      "2/2 [==============================] - 0s 3ms/step - loss: 0.1649\n",
      "Epoch 9/20\n",
      "2/2 [==============================] - 0s 2ms/step - loss: 0.1434\n",
      "Epoch 10/20\n",
      "2/2 [==============================] - 0s 3ms/step - loss: 0.1095\n",
      "Epoch 11/20\n",
      "2/2 [==============================] - 0s 3ms/step - loss: 0.0858\n",
      "Epoch 12/20\n",
      "2/2 [==============================] - 0s 3ms/step - loss: 0.0748\n",
      "Epoch 13/20\n",
      "2/2 [==============================] - 0s 5ms/step - loss: 0.0760\n",
      "Epoch 14/20\n",
      "2/2 [==============================] - 0s 3ms/step - loss: 0.0800\n",
      "Epoch 15/20\n",
      "2/2 [==============================] - 0s 3ms/step - loss: 0.0867\n",
      "Epoch 16/20\n",
      "2/2 [==============================] - 0s 4ms/step - loss: 0.0794\n",
      "Epoch 17/20\n",
      "2/2 [==============================] - 0s 4ms/step - loss: 0.0757\n",
      "Epoch 18/20\n",
      "2/2 [==============================] - 0s 4ms/step - loss: 0.0724\n",
      "Epoch 19/20\n",
      "2/2 [==============================] - 0s 2ms/step - loss: 0.0651\n",
      "Epoch 20/20\n",
      "2/2 [==============================] - 0s 3ms/step - loss: 0.0594\n"
     ]
    }
   ],
   "source": [
    "autoencoder.compile(optimizer = 'adam', loss = 'mae')\n",
    "history = autoencoder.fit(raw_data, raw_data, epochs = 20)"
   ]
  },
  {
   "cell_type": "code",
   "execution_count": 6,
   "metadata": {
    "ExecuteTime": {
     "end_time": "2022-03-23T14:49:04.428924Z",
     "start_time": "2022-03-23T14:49:04.394779Z"
    }
   },
   "outputs": [
    {
     "data": {
      "text/plain": [
       "array([[ 0.74941176, -0.2903701 ],\n",
       "       [-0.63376176, -0.21342829],\n",
       "       [ 0.03548574, -0.3032898 ],\n",
       "       [ 0.8352796 , -0.09077086],\n",
       "       [-0.79888934, -0.39583656],\n",
       "       [-0.23759632, -0.20301367],\n",
       "       [ 0.5258926 , -0.4173003 ],\n",
       "       [-0.40704057, -0.17195746],\n",
       "       [ 0.4112416 , -0.4175684 ],\n",
       "       [-0.80667174, -0.41293502],\n",
       "       [-0.46241078, -0.17095104],\n",
       "       [ 0.07139973, -0.31789654],\n",
       "       [-0.7568118 , -0.32339194],\n",
       "       [ 0.06331355, -0.31462228],\n",
       "       [ 0.3783573 , -0.41334257],\n",
       "       [ 0.41539693, -0.4179819 ],\n",
       "       [ 0.4646547 , -0.42062888],\n",
       "       [ 0.7064744 , -0.3384275 ],\n",
       "       [ 0.6477971 , -0.37998453],\n",
       "       [-0.77993447, -0.35960525],\n",
       "       [-0.12702498, -0.2391178 ],\n",
       "       [-0.16548964, -0.22553435],\n",
       "       [ 0.37105966, -0.41218552],\n",
       "       [ 0.6057415 , -0.39868236],\n",
       "       [ 0.06207193, -0.31411856],\n",
       "       [ 0.15804031, -0.3517675 ],\n",
       "       [-0.8310533 , -0.47884336],\n",
       "       [ 0.3730266 , -0.41250497],\n",
       "       [-0.560771  , -0.18500489],\n",
       "       [-0.82757574, -0.4679334 ],\n",
       "       [ 0.82453763, -0.12970297],\n",
       "       [ 0.29473948, -0.39586294],\n",
       "       [-0.23317744, -0.20426518],\n",
       "       [-0.2415321 , -0.20191456],\n",
       "       [-0.6764434 , -0.24027097],\n",
       "       [ 0.1491048 , -0.34841758],\n",
       "       [ 0.42839196, -0.4190916 ],\n",
       "       [-0.6586584 , -0.22797419],\n",
       "       [-0.8298869 , -0.4751104 ],\n",
       "       [-0.7969691 , -0.3918379 ],\n",
       "       [-0.5669193 , -0.18671022],\n",
       "       [-0.04840849, -0.26926318],\n",
       "       [-0.7673815 , -0.3390132 ],\n",
       "       [ 0.82019526, -0.14371756],\n",
       "       [ 0.19865613, -0.3664035 ],\n",
       "       [-0.2762    , -0.19290064],\n",
       "       [-0.33774978, -0.18020654],\n",
       "       [ 0.0610401 , -0.31369975],\n",
       "       [ 0.7118912 , -0.3333708 ],\n",
       "       [ 0.2632909 , -0.3871652 ]], dtype=float32)"
      ]
     },
     "execution_count": 6,
     "metadata": {},
     "output_type": "execute_result"
    }
   ],
   "source": [
    "encoded_data = autoencoder.encoder(raw_data).numpy()\n",
    "decoded_data = autoencoder.decoder(encoded_data).numpy()\n",
    "decoded_data"
   ]
  },
  {
   "cell_type": "code",
   "execution_count": 7,
   "metadata": {
    "ExecuteTime": {
     "end_time": "2022-03-23T14:49:04.435985Z",
     "start_time": "2022-03-23T14:49:04.432193Z"
    }
   },
   "outputs": [],
   "source": [
    "h = decoded_data.tolist()\n",
    "x_axis = []\n",
    "y_axis = []\n",
    "for x in h:\n",
    "    x_axis.append(x[0])\n",
    "    y_axis.append(x[1])"
   ]
  },
  {
   "cell_type": "code",
   "execution_count": 8,
   "metadata": {
    "ExecuteTime": {
     "end_time": "2022-03-23T14:49:04.704118Z",
     "start_time": "2022-03-23T14:49:04.442087Z"
    }
   },
   "outputs": [
    {
     "data": {
      "image/png": "[encoded data removed]",
      "text/plain": [
       "<Figure size 432x288 with 1 Axes>"
      ]
     },
     "metadata": {
      "needs_background": "light"
     },
     "output_type": "display_data"
    }
   ],
   "source": [
    "plt.grid()\n",
    "plt.scatter(train_data['U1'], train_data['U2'], c = \"blue\")\n",
    "plt.scatter(x_axis, y_axis, c = \"red\")\n",
    "plt.legend(labels=[\"Given data\", \"Generated data\"])\n",
    "plt.show()"
   ]
  },
  {
   "cell_type": "code",
   "execution_count": null,
   "metadata": {},
   "outputs": [],
   "source": []
  }
 ],
 "metadata": {
  "kernelspec": {
   "display_name": "Python 3",
   "language": "python",
   "name": "python3"
  },
  "language_info": {
   "codemirror_mode": {
    "name": "ipython",
    "version": 3
   },
   "file_extension": ".py",
   "mimetype": "text/x-python",
   "name": "python",
   "nbconvert_exporter": "python",
   "pygments_lexer": "ipython3",
   "version": "3.8.5"
  }
 },
 "nbformat": 4,
 "nbformat_minor": 4
}
