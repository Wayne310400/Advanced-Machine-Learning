{
 "cells": [
  {
   "cell_type": "markdown",
   "metadata": {},
   "source": [
    "## Question 1 (a)\n",
    "\n",
    "Import moudles"
   ]
  },
  {
   "cell_type": "code",
   "execution_count": 1,
   "metadata": {
    "ExecuteTime": {
     "end_time": "2022-03-05T08:43:41.760719Z",
     "start_time": "2022-03-05T08:43:38.052460Z"
    }
   },
   "outputs": [
    {
     "name": "stderr",
     "output_type": "stream",
     "text": [
      "2022-03-09 23:36:36.201999: W tensorflow/stream_executor/platform/default/dso_loader.cc:64] Could not load dynamic library 'libcudart.so.11.0'; dlerror: libcudart.so.11.0: cannot open shared object file: No such file or directory\n",
      "2022-03-09 23:36:36.202050: I tensorflow/stream_executor/cuda/cudart_stub.cc:29] Ignore above cudart dlerror if you do not have a GPU set up on your machine.\n"
     ]
    }
   ],
   "source": [
    "import tensorflow as tf\n",
    "import pandas as pd\n",
    "import numpy as np\n",
    "\n",
    "from tensorflow.keras import layers"
   ]
  },
  {
   "cell_type": "markdown",
   "metadata": {},
   "source": [
    "準備資料集"
   ]
  },
  {
   "cell_type": "code",
   "execution_count": 2,
   "metadata": {
    "ExecuteTime": {
     "end_time": "2022-03-05T08:43:41.778223Z",
     "start_time": "2022-03-05T08:43:41.762404Z"
    }
   },
   "outputs": [
    {
     "data": {
      "text/html": [
       "<div>\n",
       "<style scoped>\n",
       "    .dataframe tbody tr th:only-of-type {\n",
       "        vertical-align: middle;\n",
       "    }\n",
       "\n",
       "    .dataframe tbody tr th {\n",
       "        vertical-align: top;\n",
       "    }\n",
       "\n",
       "    .dataframe thead th {\n",
       "        text-align: right;\n",
       "    }\n",
       "</style>\n",
       "<table border=\"1\" class=\"dataframe\">\n",
       "  <thead>\n",
       "    <tr style=\"text-align: right;\">\n",
       "      <th></th>\n",
       "      <th>x</th>\n",
       "      <th>y</th>\n",
       "    </tr>\n",
       "  </thead>\n",
       "  <tbody>\n",
       "    <tr>\n",
       "      <th>0</th>\n",
       "      <td>-0.054504</td>\n",
       "      <td>-0.223653</td>\n",
       "    </tr>\n",
       "    <tr>\n",
       "      <th>1</th>\n",
       "      <td>0.724703</td>\n",
       "      <td>-0.363040</td>\n",
       "    </tr>\n",
       "    <tr>\n",
       "      <th>2</th>\n",
       "      <td>0.269098</td>\n",
       "      <td>-0.383166</td>\n",
       "    </tr>\n",
       "    <tr>\n",
       "      <th>3</th>\n",
       "      <td>-0.258074</td>\n",
       "      <td>-0.154802</td>\n",
       "    </tr>\n",
       "    <tr>\n",
       "      <th>4</th>\n",
       "      <td>-0.311265</td>\n",
       "      <td>-0.148746</td>\n",
       "    </tr>\n",
       "  </tbody>\n",
       "</table>\n",
       "</div>"
      ],
      "text/plain": [
       "          x         y\n",
       "0 -0.054504 -0.223653\n",
       "1  0.724703 -0.363040\n",
       "2  0.269098 -0.383166\n",
       "3 -0.258074 -0.154802\n",
       "4 -0.311265 -0.148746"
      ]
     },
     "execution_count": 2,
     "metadata": {},
     "output_type": "execute_result"
    }
   ],
   "source": [
    "train_data = pd.read_csv(\"HW1-1.csv\")\n",
    "train_data.head()"
   ]
  },
  {
   "cell_type": "code",
   "execution_count": 3,
   "metadata": {
    "ExecuteTime": {
     "end_time": "2022-03-05T08:43:41.785932Z",
     "start_time": "2022-03-05T08:43:41.783003Z"
    }
   },
   "outputs": [],
   "source": [
    "train_features = train_data.copy()\n",
    "train_labels   = train_features.pop('y')\n",
    "train_features = np.array(train_features)"
   ]
  },
  {
   "cell_type": "markdown",
   "metadata": {},
   "source": [
    "建構模型"
   ]
  },
  {
   "cell_type": "code",
   "execution_count": 4,
   "metadata": {
    "ExecuteTime": {
     "end_time": "2022-03-05T08:43:41.811952Z",
     "start_time": "2022-03-05T08:43:41.788057Z"
    }
   },
   "outputs": [
    {
     "name": "stderr",
     "output_type": "stream",
     "text": [
      "2022-03-09 23:37:10.430999: W tensorflow/stream_executor/platform/default/dso_loader.cc:64] Could not load dynamic library 'libcuda.so.1'; dlerror: libcuda.so.1: cannot open shared object file: No such file or directory\n",
      "2022-03-09 23:37:10.431046: W tensorflow/stream_executor/cuda/cuda_driver.cc:269] failed call to cuInit: UNKNOWN ERROR (303)\n",
      "2022-03-09 23:37:10.431078: I tensorflow/stream_executor/cuda/cuda_diagnostics.cc:156] kernel driver does not appear to be running on this host (haeter-notebook): /proc/driver/nvidia/version does not exist\n",
      "2022-03-09 23:37:10.431435: I tensorflow/core/platform/cpu_feature_guard.cc:151] This TensorFlow binary is optimized with oneAPI Deep Neural Network Library (oneDNN) to use the following CPU instructions in performance-critical operations:  AVX2 FMA\n",
      "To enable them in other operations, rebuild TensorFlow with the appropriate compiler flags.\n"
     ]
    }
   ],
   "source": [
    "model = tf.keras.Sequential([\n",
    "    layers.Dense(64),\n",
    "    layers.Dense(32),\n",
    "    layers.Dense(16),\n",
    "    layers.Dense(1)\n",
    "])\n",
    "\n",
    "model.compile(loss = tf.losses.MeanSquaredError(),\n",
    "              optimizer = tf.optimizers.Adam())"
   ]
  },
  {
   "cell_type": "markdown",
   "metadata": {},
   "source": [
    "訓練"
   ]
  },
  {
   "cell_type": "code",
   "execution_count": 5,
   "metadata": {
    "ExecuteTime": {
     "end_time": "2022-03-05T08:43:42.351728Z",
     "start_time": "2022-03-05T08:43:41.813661Z"
    },
    "scrolled": false
   },
   "outputs": [
    {
     "data": {
      "text/plain": [
       "<keras.callbacks.History at 0x7f8a8c4a7df0>"
      ]
     },
     "execution_count": 5,
     "metadata": {},
     "output_type": "execute_result"
    }
   ],
   "source": [
    "model.fit(train_features, train_labels, epochs=10, verbose=0)"
   ]
  },
  {
   "cell_type": "markdown",
   "metadata": {},
   "source": [
    "結果"
   ]
  },
  {
   "cell_type": "code",
   "execution_count": 6,
   "metadata": {},
   "outputs": [
    {
     "name": "stdout",
     "output_type": "stream",
     "text": [
      "1/1 [==============================] - 0s 150ms/step - loss: 0.0301\n",
      "Test loss:  0.030070578679442406\n"
     ]
    }
   ],
   "source": [
    "test_loss = model.evaluate(x=train_features, y=train_labels)\n",
    "print(\"Test loss: \", test_loss)"
   ]
  },
  {
   "cell_type": "markdown",
   "metadata": {},
   "source": [
    "## Question 1 (b)"
   ]
  },
  {
   "cell_type": "markdown",
   "metadata": {},
   "source": [
    "準備資料集"
   ]
  },
  {
   "cell_type": "code",
   "execution_count": 7,
   "metadata": {},
   "outputs": [],
   "source": [
    "ORDER = 32\n",
    "\n",
    "# Prepare data\n",
    "dataframe = pd.read_csv(\"HW1-1.csv\", index_col=None, dtype=np.float32)\n",
    "dataframe.rename(columns={\"x\":\"x_1\", \"y\":\"y\"}, inplace=True)\n",
    "\n",
    "# Calculate x to x^n, x^n-1, ..., x^1\n",
    "for n in range(2, ORDER+1):\n",
    "    dataframe[f\"x_{n}\"] = dataframe[f\"x_{n-1}\"] * dataframe[\"x_1\"]\n",
    "\n",
    "dataframe = dataframe.reindex(columns=[f\"x_{n}\" for n in range(1, ORDER+1)]+['y'])\n",
    "\n",
    "training_set = dataframe.sample(frac=0.8, random_state=200)\n",
    "test_set = dataframe.drop(training_set.index)"
   ]
  },
  {
   "cell_type": "markdown",
   "metadata": {},
   "source": [
    "建構模型"
   ]
  },
  {
   "cell_type": "code",
   "execution_count": 8,
   "metadata": {},
   "outputs": [],
   "source": [
    "model = tf.keras.Sequential([\n",
    "    layers.Input(shape=(ORDER,)),\n",
    "    layers.Dense(1),\n",
    "])\n",
    "\n",
    "model.compile(\n",
    "    optimizer=\"adam\",\n",
    "    loss=tf.keras.losses.MeanSquaredError()\n",
    ")"
   ]
  },
  {
   "cell_type": "markdown",
   "metadata": {},
   "source": [
    "訓練"
   ]
  },
  {
   "cell_type": "code",
   "execution_count": 9,
   "metadata": {},
   "outputs": [
    {
     "name": "stdout",
     "output_type": "stream",
     "text": [
      "1/1 [==============================] - 0s 76ms/step - loss: 0.2996\n",
      "1/1 [==============================] - 0s 21ms/step - loss: 0.1449\n",
      "1/1 [==============================] - 0s 24ms/step - loss: 0.0653\n"
     ]
    }
   ],
   "source": [
    "MAX_NUMBER_OF_EPOCH=10\n",
    "for i in range(MAX_NUMBER_OF_EPOCH):\n",
    "    # Fit\n",
    "    model.fit(training_set.drop('y', axis=1), training_set['y'], epochs=20, verbose=0)\n",
    "\n",
    "    # Evaluate model\n",
    "    test_loss = model.evaluate(x=test_set.drop('y', axis=1), y=test_set['y'])\n",
    "    if test_loss < 0.1:\n",
    "        break\n",
    "\n",
    "assert test_loss < 0.1"
   ]
  },
  {
   "cell_type": "markdown",
   "metadata": {},
   "source": [
    "結果"
   ]
  },
  {
   "cell_type": "code",
   "execution_count": 10,
   "metadata": {},
   "outputs": [
    {
     "name": "stdout",
     "output_type": "stream",
     "text": [
      "1/1 [==============================] - 0s 34ms/step - loss: 0.0653\n",
      "Test loss:  0.0652788057923317\n"
     ]
    }
   ],
   "source": [
    "test_loss = model.evaluate(x=test_set.drop('y', axis=1), y=test_set['y'])\n",
    "print(\"Test loss: \", test_loss)"
   ]
  },
  {
   "cell_type": "markdown",
   "metadata": {},
   "source": [
    "第 i 小題"
   ]
  },
  {
   "cell_type": "code",
   "execution_count": 11,
   "metadata": {},
   "outputs": [
    {
     "name": "stdout",
     "output_type": "stream",
     "text": [
      "i. Print out the coefficients of the equation.\n",
      "Weight: \n",
      "w_0 = [-0.04163394]\n",
      "w_1 = [0.20274855]\n",
      "w_2 = [-0.30061528]\n",
      "w_3 = [-0.29286554]\n",
      "w_4 = [-0.25009477]\n",
      "w_5 = [0.01730276]\n",
      "w_6 = [0.33750138]\n",
      "w_7 = [0.2666694]\n",
      "w_8 = [-0.24215078]\n",
      "w_9 = [0.02877681]\n",
      "w_10 = [-0.33763015]\n",
      "w_11 = [-0.3468432]\n",
      "w_12 = [0.31907126]\n",
      "w_13 = [-0.18169421]\n",
      "w_14 = [-0.07163016]\n",
      "w_15 = [0.3385871]\n",
      "w_16 = [0.4587047]\n",
      "w_17 = [-0.30409378]\n",
      "w_18 = [-0.03148082]\n",
      "w_19 = [0.15779418]\n",
      "w_20 = [0.48006257]\n",
      "w_21 = [-0.33570647]\n",
      "w_22 = [0.01507698]\n",
      "w_23 = [-0.34737223]\n",
      "w_24 = [0.13582017]\n",
      "w_25 = [-0.31551775]\n",
      "w_26 = [-0.11451023]\n",
      "w_27 = [-0.01853955]\n",
      "w_28 = [0.39415994]\n",
      "w_29 = [-0.12617722]\n",
      "w_30 = [0.0638641]\n",
      "w_31 = [0.21645708]\n",
      "Bias = -0.05846880003809929\n"
     ]
    }
   ],
   "source": [
    "print(\"i. Print out the coefficients of the equation.\")\n",
    "kernel, biases = model.get_layer(index=0).weights\n",
    "print(\"Weight: \")\n",
    "kernel_arr = kernel.value().numpy()\n",
    "for i in range(len(kernel_arr)):\n",
    "    print(f\"w_{i} = {kernel_arr[i]}\")\n",
    "print(\"Bias = \", end='')\n",
    "print(sum(biases.value().numpy()))"
   ]
  },
  {
   "cell_type": "markdown",
   "metadata": {},
   "source": [
    "第 ii 小題"
   ]
  },
  {
   "cell_type": "code",
   "execution_count": 12,
   "metadata": {},
   "outputs": [
    {
     "name": "stdout",
     "output_type": "stream",
     "text": [
      "ii. Calculate the following gradients:\n",
      "f'(2.0)= -970487232.0\n",
      "f'(0.5)= -0.4519183337688446\n",
      "f'(-0.8)= -0.12543338537216187\n"
     ]
    }
   ],
   "source": [
    "print(\"ii. Calculate the following gradients:\")\n",
    "\n",
    "def diff(x:tf.constant, weight: tf.Variable):\n",
    "    assert weight.shape.ndims == 2\n",
    "    assert weight.shape[-1] == 1\n",
    "\n",
    "    x_power = np.ndarray(shape=weight.shape, dtype=np.float32)\n",
    "    x_power[0] = 1\n",
    "\n",
    "    for i in range(1, len(x_power)):\n",
    "        x_power[i] = x_power[i-1] * x.numpy()\n",
    "\n",
    "    x_power = tf.Variable(x_power)\n",
    "\n",
    "    values = tf.matmul(weight, x_power, transpose_b=True)\n",
    "    return tf.reduce_sum(values)\n",
    "\n",
    "diff_value = diff(tf.Variable(2.0, dtype=tf.float32), kernel)\n",
    "print(f\"f'(2.0)= {diff_value}\")\n",
    "\n",
    "diff_value = diff(tf.Variable(0.5, dtype=tf.float32), kernel)\n",
    "print(f\"f'(0.5)= {diff_value}\")\n",
    "\n",
    "diff_value = diff(tf.Variable(-0.8, dtype=tf.float32), kernel)\n",
    "print(f\"f'(-0.8)= {diff_value}\")"
   ]
  }
 ],
 "metadata": {
  "kernelspec": {
   "display_name": "Python 3",
   "language": "python",
   "name": "python3"
  },
  "language_info": {
   "codemirror_mode": {
    "name": "ipython",
    "version": 3
   },
   "file_extension": ".py",
   "mimetype": "text/x-python",
   "name": "python",
   "nbconvert_exporter": "python",
   "pygments_lexer": "ipython3",
   "version": "3.8.10"
  }
 },
 "nbformat": 4,
 "nbformat_minor": 4
}
