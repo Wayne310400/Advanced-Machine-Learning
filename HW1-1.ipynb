{
 "cells": [
  {
   "cell_type": "markdown",
   "metadata": {},
   "source": [
    "## Question 1 (a)\n",
    "\n",
    "Import moudles"
   ]
  },
  {
   "cell_type": "code",
   "execution_count": 3,
   "metadata": {
    "ExecuteTime": {
     "end_time": "2022-03-05T08:43:41.760719Z",
     "start_time": "2022-03-05T08:43:38.052460Z"
    }
   },
   "outputs": [],
   "source": [
    "import tensorflow as tf\n",
    "import pandas as pd\n",
    "import numpy as np\n",
    "\n",
    "from tensorflow.keras import layers"
   ]
  },
  {
   "cell_type": "markdown",
   "metadata": {},
   "source": [
    "準備資料集"
   ]
  },
  {
   "cell_type": "code",
   "execution_count": null,
   "metadata": {
    "ExecuteTime": {
     "end_time": "2022-03-05T08:43:41.778223Z",
     "start_time": "2022-03-05T08:43:41.762404Z"
    }
   },
   "outputs": [
    {
     "data": {
      "text/html": [
       "<div>\n",
       "<style scoped>\n",
       "    .dataframe tbody tr th:only-of-type {\n",
       "        vertical-align: middle;\n",
       "    }\n",
       "\n",
       "    .dataframe tbody tr th {\n",
       "        vertical-align: top;\n",
       "    }\n",
       "\n",
       "    .dataframe thead th {\n",
       "        text-align: right;\n",
       "    }\n",
       "</style>\n",
       "<table border=\"1\" class=\"dataframe\">\n",
       "  <thead>\n",
       "    <tr style=\"text-align: right;\">\n",
       "      <th></th>\n",
       "      <th>x</th>\n",
       "      <th>y</th>\n",
       "    </tr>\n",
       "  </thead>\n",
       "  <tbody>\n",
       "    <tr>\n",
       "      <th>0</th>\n",
       "      <td>-0.054504</td>\n",
       "      <td>-0.223653</td>\n",
       "    </tr>\n",
       "    <tr>\n",
       "      <th>1</th>\n",
       "      <td>0.724703</td>\n",
       "      <td>-0.363040</td>\n",
       "    </tr>\n",
       "    <tr>\n",
       "      <th>2</th>\n",
       "      <td>0.269098</td>\n",
       "      <td>-0.383166</td>\n",
       "    </tr>\n",
       "    <tr>\n",
       "      <th>3</th>\n",
       "      <td>-0.258074</td>\n",
       "      <td>-0.154802</td>\n",
       "    </tr>\n",
       "    <tr>\n",
       "      <th>4</th>\n",
       "      <td>-0.311265</td>\n",
       "      <td>-0.148746</td>\n",
       "    </tr>\n",
       "  </tbody>\n",
       "</table>\n",
       "</div>"
      ],
      "text/plain": [
       "          x         y\n",
       "0 -0.054504 -0.223653\n",
       "1  0.724703 -0.363040\n",
       "2  0.269098 -0.383166\n",
       "3 -0.258074 -0.154802\n",
       "4 -0.311265 -0.148746"
      ]
     },
     "execution_count": 2,
     "metadata": {},
     "output_type": "execute_result"
    }
   ],
   "source": [
    "train_data = pd.read_csv(\"HW1-1.csv\")\n",
    "train_data.head()"
   ]
  },
  {
   "cell_type": "code",
   "execution_count": null,
   "metadata": {
    "ExecuteTime": {
     "end_time": "2022-03-05T08:43:41.785932Z",
     "start_time": "2022-03-05T08:43:41.783003Z"
    }
   },
   "outputs": [],
   "source": [
    "train_features = train_data.copy()\n",
    "train_labels   = train_features.pop('y')\n",
    "train_features = np.array(train_features)"
   ]
  },
  {
   "cell_type": "markdown",
   "metadata": {},
   "source": [
    "建構模型"
   ]
  },
  {
   "cell_type": "code",
   "execution_count": null,
   "metadata": {
    "ExecuteTime": {
     "end_time": "2022-03-05T08:43:41.811952Z",
     "start_time": "2022-03-05T08:43:41.788057Z"
    }
   },
   "outputs": [],
   "source": [
    "model = tf.keras.Sequential([\n",
    "    layers.Dense(64),\n",
    "    layers.Dense(32),\n",
    "    layers.Dense(16),\n",
    "    layers.Dense(1)\n",
    "])\n",
    "\n",
    "model.compile(loss = tf.losses.MeanSquaredError(),\n",
    "              optimizer = tf.optimizers.Adam())"
   ]
  },
  {
   "cell_type": "markdown",
   "metadata": {},
   "source": [
    "訓練"
   ]
  },
  {
   "cell_type": "code",
   "execution_count": null,
   "metadata": {
    "ExecuteTime": {
     "end_time": "2022-03-05T08:43:42.351728Z",
     "start_time": "2022-03-05T08:43:41.813661Z"
    },
    "scrolled": false
   },
   "outputs": [],
   "source": [
    "model.fit(train_features, train_labels, epochs=10, verbose=0)"
   ]
  },
  {
   "cell_type": "markdown",
   "metadata": {},
   "source": [
    "結果"
   ]
  },
  {
   "cell_type": "code",
   "execution_count": null,
   "metadata": {},
   "outputs": [],
   "source": [
    "model.eva"
   ]
  },
  {
   "cell_type": "markdown",
   "metadata": {},
   "source": [
    "## Question 1 (b)"
   ]
  },
  {
   "cell_type": "markdown",
   "metadata": {},
   "source": [
    "準備資料集"
   ]
  },
  {
   "cell_type": "code",
   "execution_count": 16,
   "metadata": {},
   "outputs": [],
   "source": [
    "ORDER = 32\n",
    "\n",
    "# Prepare data\n",
    "dataframe = pd.read_csv(\"HW1-1.csv\", index_col=None, dtype=np.float32)\n",
    "dataframe.rename(columns={\"x\":\"x_1\", \"y\":\"y\"}, inplace=True)\n",
    "\n",
    "# Calculate x to x^n, x^n-1, ..., x^1\n",
    "for n in range(2, ORDER+1):\n",
    "    dataframe[f\"x_{n}\"] = dataframe[f\"x_{n-1}\"] * dataframe[\"x_1\"]\n",
    "\n",
    "dataframe = dataframe.reindex(columns=[f\"x_{n}\" for n in range(1, ORDER+1)]+['y'])\n",
    "\n",
    "training_set = dataframe.sample(frac=0.8, random_state=200)\n",
    "test_set = dataframe.drop(training_set.index)"
   ]
  },
  {
   "cell_type": "markdown",
   "metadata": {},
   "source": [
    "建構模型"
   ]
  },
  {
   "cell_type": "code",
   "execution_count": 17,
   "metadata": {},
   "outputs": [],
   "source": [
    "model = tf.keras.Sequential([\n",
    "    layers.Input(shape=(ORDER,)),\n",
    "    layers.Dense(1),\n",
    "])\n",
    "\n",
    "model.compile(\n",
    "    optimizer=\"adam\",\n",
    "    loss=tf.keras.losses.MeanSquaredError()\n",
    ")"
   ]
  },
  {
   "cell_type": "markdown",
   "metadata": {},
   "source": [
    "訓練"
   ]
  },
  {
   "cell_type": "code",
   "execution_count": 18,
   "metadata": {},
   "outputs": [
    {
     "name": "stdout",
     "output_type": "stream",
     "text": [
      "1/1 [==============================] - 0s 75ms/step - loss: 1.4382\n",
      "1/1 [==============================] - 0s 21ms/step - loss: 0.9142\n",
      "1/1 [==============================] - 0s 20ms/step - loss: 0.5459\n",
      "1/1 [==============================] - 0s 18ms/step - loss: 0.3030\n",
      "1/1 [==============================] - 0s 20ms/step - loss: 0.1534\n",
      "1/1 [==============================] - 0s 20ms/step - loss: 0.0700\n"
     ]
    }
   ],
   "source": [
    "MAX_NUMBER_OF_EPOCH=10\n",
    "for i in range(MAX_NUMBER_OF_EPOCH):\n",
    "    # Fit\n",
    "    model.fit(training_set.drop('y', axis=1), training_set['y'], epochs=20, verbose=0)\n",
    "\n",
    "    # Evaluate model\n",
    "    test_loss = model.evaluate(x=test_set.drop('y', axis=1), y=test_set['y'])\n",
    "    if test_loss < 0.1:\n",
    "        break\n",
    "\n",
    "assert test_loss < 0.1"
   ]
  },
  {
   "cell_type": "markdown",
   "metadata": {},
   "source": [
    "結果"
   ]
  },
  {
   "cell_type": "code",
   "execution_count": 21,
   "metadata": {},
   "outputs": [
    {
     "name": "stdout",
     "output_type": "stream",
     "text": [
      "1/1 [==============================] - 0s 24ms/step - loss: 0.0700\n",
      "Test loss:  0.06996189802885056\n"
     ]
    }
   ],
   "source": [
    "test_loss = model.evaluate(x=test_set.drop('y', axis=1), y=test_set['y'])\n",
    "print(\"Test loss: \", test_loss)"
   ]
  },
  {
   "cell_type": "code",
   "execution_count": 22,
   "metadata": {},
   "outputs": [
    {
     "name": "stdout",
     "output_type": "stream",
     "text": [
      "i. Print out the coefficients of the equation.\n",
      "Weight: [[ 0.1007423 ]\n",
      " [-0.06297268]\n",
      " [-0.02943124]\n",
      " [-0.23155521]\n",
      " [-0.2261115 ]\n",
      " [ 0.0561245 ]\n",
      " [-0.09686817]\n",
      " [ 0.3277167 ]\n",
      " [-0.15720591]\n",
      " [-0.25675574]\n",
      " [-0.24861994]\n",
      " [-0.05378663]\n",
      " [-0.10524174]\n",
      " [-0.18138628]\n",
      " [ 0.25936326]\n",
      " [-0.10369682]\n",
      " [-0.16191235]\n",
      " [ 0.34122032]\n",
      " [-0.08900369]\n",
      " [-0.10875673]\n",
      " [-0.12178234]\n",
      " [-0.1915558 ]\n",
      " [ 0.115853  ]\n",
      " [-0.0097118 ]\n",
      " [ 0.48860645]\n",
      " [ 0.33386782]\n",
      " [-0.11956736]\n",
      " [ 0.20520154]\n",
      " [ 0.01304738]\n",
      " [-0.28678012]\n",
      " [ 0.3048031 ]\n",
      " [ 0.10466629]]\n",
      "Bias: -0.12550900876522064\n",
      "ii. Calculate the following gradients:\n"
     ]
    }
   ],
   "source": [
    "print(\"i. Print out the coefficients of the equation.\")\n",
    "kernel, biases = model.get_layer(index=0).weights\n",
    "print(\"Weight: \", end='')\n",
    "print(kernel.value().numpy())\n",
    "print(\"Bias: \", end='')\n",
    "print(sum(biases.value().numpy()))"
   ]
  },
  {
   "cell_type": "code",
   "execution_count": 34,
   "metadata": {},
   "outputs": [
    {
     "name": "stdout",
     "output_type": "stream",
     "text": [
      "ii. Calculate the following gradients:\n"
     ]
    },
    {
     "ename": "LookupError",
     "evalue": "No gradient defined for operation'IteratorGetNext' (op type: IteratorGetNext). In general every operation must have an associated `@tf.RegisterGradient` for correct autodiff, which this op is lacking. If you want to pretend this operation is a constant in your program, you may insert `tf.stop_gradient`. This can be useful to silence the error in cases where you know gradients are not needed, e.g. the forward pass of tf.custom_gradient. Please see more details in https://www.tensorflow.org/api_docs/python/tf/custom_gradient.",
     "output_type": "error",
     "traceback": [
      "\u001b[0;31m---------------------------------------------------------------------------\u001b[0m",
      "\u001b[0;31mLookupError\u001b[0m                               Traceback (most recent call last)",
      "\u001b[0;32m/tmp/ipykernel_303235/160622484.py\u001b[0m in \u001b[0;36m<module>\u001b[0;34m\u001b[0m\n\u001b[1;32m     10\u001b[0m \u001b[0;34m\u001b[0m\u001b[0m\n\u001b[1;32m     11\u001b[0m \u001b[0;32mwith\u001b[0m \u001b[0mtf\u001b[0m\u001b[0;34m.\u001b[0m\u001b[0mGradientTape\u001b[0m\u001b[0;34m(\u001b[0m\u001b[0;34m)\u001b[0m \u001b[0;32mas\u001b[0m \u001b[0mtape\u001b[0m\u001b[0;34m:\u001b[0m\u001b[0;34m\u001b[0m\u001b[0;34m\u001b[0m\u001b[0m\n\u001b[0;32m---> 12\u001b[0;31m     \u001b[0mvalue\u001b[0m \u001b[0;34m=\u001b[0m \u001b[0mmodel\u001b[0m\u001b[0;34m.\u001b[0m\u001b[0mpredict\u001b[0m\u001b[0;34m(\u001b[0m\u001b[0mgenerate_w_power_array\u001b[0m\u001b[0;34m(\u001b[0m\u001b[0;36m2.0\u001b[0m\u001b[0;34m)\u001b[0m\u001b[0;34m)\u001b[0m\u001b[0;34m\u001b[0m\u001b[0;34m\u001b[0m\u001b[0m\n\u001b[0m\u001b[1;32m     13\u001b[0m     \u001b[0mloss\u001b[0m \u001b[0;34m=\u001b[0m \u001b[0mmodel\u001b[0m\u001b[0;34m.\u001b[0m\u001b[0mloss\u001b[0m\u001b[0;34m(\u001b[0m\u001b[0mvalue\u001b[0m\u001b[0;34m)\u001b[0m\u001b[0;34m\u001b[0m\u001b[0;34m\u001b[0m\u001b[0m\n\u001b[1;32m     14\u001b[0m \u001b[0;34m\u001b[0m\u001b[0m\n",
      "\u001b[0;32m~/.local/lib/python3.8/site-packages/keras/utils/traceback_utils.py\u001b[0m in \u001b[0;36merror_handler\u001b[0;34m(*args, **kwargs)\u001b[0m\n\u001b[1;32m     65\u001b[0m     \u001b[0;32mexcept\u001b[0m \u001b[0mException\u001b[0m \u001b[0;32mas\u001b[0m \u001b[0me\u001b[0m\u001b[0;34m:\u001b[0m  \u001b[0;31m# pylint: disable=broad-except\u001b[0m\u001b[0;34m\u001b[0m\u001b[0;34m\u001b[0m\u001b[0m\n\u001b[1;32m     66\u001b[0m       \u001b[0mfiltered_tb\u001b[0m \u001b[0;34m=\u001b[0m \u001b[0m_process_traceback_frames\u001b[0m\u001b[0;34m(\u001b[0m\u001b[0me\u001b[0m\u001b[0;34m.\u001b[0m\u001b[0m__traceback__\u001b[0m\u001b[0;34m)\u001b[0m\u001b[0;34m\u001b[0m\u001b[0;34m\u001b[0m\u001b[0m\n\u001b[0;32m---> 67\u001b[0;31m       \u001b[0;32mraise\u001b[0m \u001b[0me\u001b[0m\u001b[0;34m.\u001b[0m\u001b[0mwith_traceback\u001b[0m\u001b[0;34m(\u001b[0m\u001b[0mfiltered_tb\u001b[0m\u001b[0;34m)\u001b[0m \u001b[0;32mfrom\u001b[0m \u001b[0;32mNone\u001b[0m\u001b[0;34m\u001b[0m\u001b[0;34m\u001b[0m\u001b[0m\n\u001b[0m\u001b[1;32m     68\u001b[0m     \u001b[0;32mfinally\u001b[0m\u001b[0;34m:\u001b[0m\u001b[0;34m\u001b[0m\u001b[0;34m\u001b[0m\u001b[0m\n\u001b[1;32m     69\u001b[0m       \u001b[0;32mdel\u001b[0m \u001b[0mfiltered_tb\u001b[0m\u001b[0;34m\u001b[0m\u001b[0;34m\u001b[0m\u001b[0m\n",
      "\u001b[0;32m~/.local/lib/python3.8/site-packages/tensorflow/python/ops/gradients_util.py\u001b[0m in \u001b[0;36m_GradientsHelper\u001b[0;34m(ys, xs, grad_ys, name, colocate_gradients_with_ops, gate_gradients, aggregation_method, stop_gradients, unconnected_gradients, src_graph)\u001b[0m\n\u001b[1;32m    621\u001b[0m               \u001b[0mgrad_fn\u001b[0m \u001b[0;34m=\u001b[0m \u001b[0mfunc_call\u001b[0m\u001b[0;34m.\u001b[0m\u001b[0mpython_grad_func\u001b[0m\u001b[0;34m\u001b[0m\u001b[0;34m\u001b[0m\u001b[0m\n\u001b[1;32m    622\u001b[0m             \u001b[0;32melse\u001b[0m\u001b[0;34m:\u001b[0m\u001b[0;34m\u001b[0m\u001b[0;34m\u001b[0m\u001b[0m\n\u001b[0;32m--> 623\u001b[0;31m               raise LookupError(\n\u001b[0m\u001b[1;32m    624\u001b[0m                   \u001b[0;34m\"No gradient defined for operation\"\u001b[0m\u001b[0;34m\u001b[0m\u001b[0;34m\u001b[0m\u001b[0m\n\u001b[1;32m    625\u001b[0m                   \u001b[0;34mf\"'{op.name}' (op type: {op.type}). \"\u001b[0m\u001b[0;34m\u001b[0m\u001b[0;34m\u001b[0m\u001b[0m\n",
      "\u001b[0;31mLookupError\u001b[0m: No gradient defined for operation'IteratorGetNext' (op type: IteratorGetNext). In general every operation must have an associated `@tf.RegisterGradient` for correct autodiff, which this op is lacking. If you want to pretend this operation is a constant in your program, you may insert `tf.stop_gradient`. This can be useful to silence the error in cases where you know gradients are not needed, e.g. the forward pass of tf.custom_gradient. Please see more details in https://www.tensorflow.org/api_docs/python/tf/custom_gradient."
     ]
    }
   ],
   "source": [
    "def generate_w_power_array(value):\n",
    "    arr = np.ndarray(shape=(ORDER, 1), dtype=np.float32)\n",
    "    arr[0] = value\n",
    "    for i in range(1, ORDER):\n",
    "        arr[i] = arr[i] * arr[0]\n",
    "\n",
    "    return arr.reshape((1, ORDER))\n",
    "\n",
    "print(\"ii. Calculate the following gradients:\")"
   ]
  }
 ],
 "metadata": {
  "kernelspec": {
   "display_name": "Python 3",
   "language": "python",
   "name": "python3"
  },
  "language_info": {
   "codemirror_mode": {
    "name": "ipython",
    "version": 3
   },
   "file_extension": ".py",
   "mimetype": "text/x-python",
   "name": "python",
   "nbconvert_exporter": "python",
   "pygments_lexer": "ipython3",
   "version": "3.8.10"
  }
 },
 "nbformat": 4,
 "nbformat_minor": 4
}
